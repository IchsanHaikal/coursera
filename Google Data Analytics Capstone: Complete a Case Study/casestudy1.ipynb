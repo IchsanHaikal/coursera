{
 "cells": [
  {
   "cell_type": "markdown",
   "metadata": {},
   "source": [
    "# Case Study: How Does a Bike-Share Navigate Speedy Success?"
   ]
  },
  {
   "cell_type": "markdown",
   "metadata": {},
   "source": [
    "## Ask\n",
    "1. What is the problem we are trying to solve?\n",
    "2. How do annual members and casual members use Cyclistic bikes differently?\n",
    "3. How can our insights drive business decisions?\n",
    "\n",
    "Identifying the main differences between members and casual riders can help us establish who Cyclistic customers are and provide key information that will help develope the business strategy and marketing campaign.\n",
    "\n",
    "Objective: Design a marketing campaign to convert casual riders into annual members.\n",
    "\n",
    "Stakeholders:\n",
    "* Cyclistic executive team: In charge of the final decision, they will decide if the recommended marketing strategy is approved.\n",
    "* Lily Moreno: Director of marketing, responsible for the development of the marketing campaign and the bike-share initiatives. She is responsible for the success or failure of the marketing campaign based on your data analysis."
   ]
  },
  {
   "cell_type": "markdown",
   "metadata": {},
   "source": [
    "## Prepare\n",
    "Data source:\n",
    "For this analysis, we have access to a primary data source downloaded from Cyclystic trip data. It is licensed under Motivate International Inc. This dataset consists of quantitative measurements collected from bike trackers, they do not gather personal data from users.\n",
    "\n",
    "Data credibility (ROCC):\n",
    "* Reliable: Although the dataset has many incomplete entries, this accounts for less than 0.1% of all data entries, making it reasonable to ignore for the sake of this analyisis.\n",
    "* Original: Primary data source, the company Cyclistic gathers this data first-hand.\n",
    "* Comprehensive: The dataset has more than 5 million complete data entries.\n",
    "* Current: Data is up-to-date as it includes data from the past 12 months."
   ]
  },
  {
   "cell_type": "markdown",
   "metadata": {},
   "source": [
    "## Process\n",
    "Tools used for processing data:\n",
    "Spreadsheets where avoided because of the raw amount of data in this dataset. For this project, R Studio was the preferred tool used for this project. It has a wide range of tools available and can handle massive amounts of data with ease.\n",
    "\n",
    "Cleaning and processing:\n",
    "First we prepare the R Studio environment with the right tools by installing the required packages and libraries:"
   ]
  },
  {
   "cell_type": "code",
   "execution_count": 1,
   "metadata": {
    "vscode": {
     "languageId": "r"
    }
   },
   "outputs": [
    {
     "name": "stderr",
     "output_type": "stream",
     "text": [
      "── \u001b[1mAttaching core tidyverse packages\u001b[22m ──────────────────────── tidyverse 2.0.0 ──\n",
      "\u001b[32m✔\u001b[39m \u001b[34mdplyr    \u001b[39m 1.1.2     \u001b[32m✔\u001b[39m \u001b[34mreadr    \u001b[39m 2.1.4\n",
      "\u001b[32m✔\u001b[39m \u001b[34mforcats  \u001b[39m 1.0.0     \u001b[32m✔\u001b[39m \u001b[34mstringr  \u001b[39m 1.5.0\n",
      "\u001b[32m✔\u001b[39m \u001b[34mggplot2  \u001b[39m 3.4.2     \u001b[32m✔\u001b[39m \u001b[34mtibble   \u001b[39m 3.2.1\n",
      "\u001b[32m✔\u001b[39m \u001b[34mlubridate\u001b[39m 1.9.2     \u001b[32m✔\u001b[39m \u001b[34mtidyr    \u001b[39m 1.3.0\n",
      "\u001b[32m✔\u001b[39m \u001b[34mpurrr    \u001b[39m 1.0.1     \n",
      "── \u001b[1mConflicts\u001b[22m ────────────────────────────────────────── tidyverse_conflicts() ──\n",
      "\u001b[31m✖\u001b[39m \u001b[34mdplyr\u001b[39m::\u001b[32mfilter()\u001b[39m masks \u001b[34mstats\u001b[39m::filter()\n",
      "\u001b[31m✖\u001b[39m \u001b[34mdplyr\u001b[39m::\u001b[32mlag()\u001b[39m    masks \u001b[34mstats\u001b[39m::lag()\n",
      "\u001b[36mℹ\u001b[39m Use the conflicted package (\u001b[3m\u001b[34m<http://conflicted.r-lib.org/>\u001b[39m\u001b[23m) to force all conflicts to become errors\n",
      "\n",
      "Attaching package: 'janitor'\n",
      "\n",
      "\n",
      "The following objects are masked from 'package:stats':\n",
      "\n",
      "    chisq.test, fisher.test\n",
      "\n",
      "\n",
      "\n",
      "Attaching package: 'scales'\n",
      "\n",
      "\n",
      "The following object is masked from 'package:purrr':\n",
      "\n",
      "    discard\n",
      "\n",
      "\n",
      "The following object is masked from 'package:readr':\n",
      "\n",
      "    col_factor\n",
      "\n",
      "\n"
     ]
    }
   ],
   "source": [
    "library(tidyverse) # helps wrangle data\n",
    "library(janitor) # helps clean data\n",
    "library(lubridate) # helps wrangle date attributes\n",
    "library(ggplot2) #helps visualize data\n",
    "library(dplyr) #Count distinct\n",
    "library(scales) #For better numbering in plots"
   ]
  },
  {
   "cell_type": "markdown",
   "metadata": {},
   "source": [
    "Data importing and consistency checking\n",
    "\n",
    "Then we have to import the data to R Studio and check for consistency, we use ‘colnames’ to verify the that the column names match in each dataframe and ‘str’ to check for consistency in data type per column.\n",
    "\n",
    "Processing (part 2):\n",
    "1. We stack the individual data frames into one big data frame.\n",
    "2. We do a check with ‘colnames’, ‘dim’, ‘head’, ‘str’ and ‘summary’.\n",
    "3. We check for discrepancies in number of rows and distinct rider id’s, they should be the same amount.\n",
    "4. We check for distinct values in member_casual, it should to be 2."
   ]
  },
  {
   "cell_type": "code",
   "execution_count": 2,
   "metadata": {
    "vscode": {
     "languageId": "r"
    }
   },
   "outputs": [],
   "source": [
    "#Import Data\n",
    "df1 <- read.csv(\"data/202207-divvy-tripdata.csv\")\n",
    "df2 <- read.csv(\"data/202208-divvy-tripdata.csv\")\n",
    "df3 <- read.csv(\"data/202209-divvy-tripdata.csv\")\n",
    "df4 <- read.csv(\"data/202210-divvy-tripdata.csv\")\n",
    "df5 <- read.csv(\"data/202211-divvy-tripdata.csv\")\n",
    "df6 <- read.csv(\"data/202212-divvy-tripdata.csv\")\n",
    "df7 <- read.csv(\"data/202301-divvy-tripdata.csv\")\n",
    "df8 <- read.csv(\"data/202302-divvy-tripdata.csv\")\n",
    "df9 <- read.csv(\"data/202303-divvy-tripdata.csv\")\n",
    "df10 <- read.csv(\"data/202304-divvy-publictripdata.csv\")\n",
    "df11 <- read.csv(\"data/202305-divvy-tripdata.csv\")\n",
    "df12 <- read.csv(\"data/202306-divvy-tripdata.csv\")"
   ]
  },
  {
   "cell_type": "code",
   "execution_count": 3,
   "metadata": {
    "vscode": {
     "languageId": "r"
    }
   },
   "outputs": [
    {
     "data": {
      "text/html": [
       "<style>\n",
       ".list-inline {list-style: none; margin:0; padding: 0}\n",
       ".list-inline>li {display: inline-block}\n",
       ".list-inline>li:not(:last-child)::after {content: \"\\00b7\"; padding: 0 .5ex}\n",
       "</style>\n",
       "<ol class=list-inline><li>'ride_id'</li><li>'rideable_type'</li><li>'started_at'</li><li>'ended_at'</li><li>'start_station_name'</li><li>'start_station_id'</li><li>'end_station_name'</li><li>'end_station_id'</li><li>'start_lat'</li><li>'start_lng'</li><li>'end_lat'</li><li>'end_lng'</li><li>'member_casual'</li></ol>\n"
      ],
      "text/latex": [
       "\\begin{enumerate*}\n",
       "\\item 'ride\\_id'\n",
       "\\item 'rideable\\_type'\n",
       "\\item 'started\\_at'\n",
       "\\item 'ended\\_at'\n",
       "\\item 'start\\_station\\_name'\n",
       "\\item 'start\\_station\\_id'\n",
       "\\item 'end\\_station\\_name'\n",
       "\\item 'end\\_station\\_id'\n",
       "\\item 'start\\_lat'\n",
       "\\item 'start\\_lng'\n",
       "\\item 'end\\_lat'\n",
       "\\item 'end\\_lng'\n",
       "\\item 'member\\_casual'\n",
       "\\end{enumerate*}\n"
      ],
      "text/markdown": [
       "1. 'ride_id'\n",
       "2. 'rideable_type'\n",
       "3. 'started_at'\n",
       "4. 'ended_at'\n",
       "5. 'start_station_name'\n",
       "6. 'start_station_id'\n",
       "7. 'end_station_name'\n",
       "8. 'end_station_id'\n",
       "9. 'start_lat'\n",
       "10. 'start_lng'\n",
       "11. 'end_lat'\n",
       "12. 'end_lng'\n",
       "13. 'member_casual'\n",
       "\n",
       "\n"
      ],
      "text/plain": [
       " [1] \"ride_id\"            \"rideable_type\"      \"started_at\"        \n",
       " [4] \"ended_at\"           \"start_station_name\" \"start_station_id\"  \n",
       " [7] \"end_station_name\"   \"end_station_id\"     \"start_lat\"         \n",
       "[10] \"start_lng\"          \"end_lat\"            \"end_lng\"           \n",
       "[13] \"member_casual\"     "
      ]
     },
     "metadata": {},
     "output_type": "display_data"
    }
   ],
   "source": [
    "all_rides <- bind_rows(df1,df2,df3,df4,df5,df6,df7,df8,df9,df10,df11,df12)\n",
    "\n",
    "colnames(all_rides)"
   ]
  },
  {
   "cell_type": "code",
   "execution_count": 4,
   "metadata": {
    "vscode": {
     "languageId": "r"
    }
   },
   "outputs": [
    {
     "data": {
      "text/html": [
       "5779444"
      ],
      "text/latex": [
       "5779444"
      ],
      "text/markdown": [
       "5779444"
      ],
      "text/plain": [
       "[1] 5779444"
      ]
     },
     "metadata": {},
     "output_type": "display_data"
    }
   ],
   "source": [
    "n_distinct(all_rides$ride_id) #Count distinct ride id, it should be the same number as rows."
   ]
  },
  {
   "cell_type": "code",
   "execution_count": 5,
   "metadata": {
    "vscode": {
     "languageId": "r"
    }
   },
   "outputs": [
    {
     "data": {
      "text/html": [
       "5779444"
      ],
      "text/latex": [
       "5779444"
      ],
      "text/markdown": [
       "5779444"
      ],
      "text/plain": [
       "[1] 5779444"
      ]
     },
     "metadata": {},
     "output_type": "display_data"
    }
   ],
   "source": [
    "nrow(all_rides)"
   ]
  },
  {
   "cell_type": "code",
   "execution_count": 6,
   "metadata": {
    "vscode": {
     "languageId": "r"
    }
   },
   "outputs": [
    {
     "data": {
      "text/html": [
       "<style>\n",
       ".list-inline {list-style: none; margin:0; padding: 0}\n",
       ".list-inline>li {display: inline-block}\n",
       ".list-inline>li:not(:last-child)::after {content: \"\\00b7\"; padding: 0 .5ex}\n",
       "</style>\n",
       "<ol class=list-inline><li>5779444</li><li>13</li></ol>\n"
      ],
      "text/latex": [
       "\\begin{enumerate*}\n",
       "\\item 5779444\n",
       "\\item 13\n",
       "\\end{enumerate*}\n"
      ],
      "text/markdown": [
       "1. 5779444\n",
       "2. 13\n",
       "\n",
       "\n"
      ],
      "text/plain": [
       "[1] 5779444      13"
      ]
     },
     "metadata": {},
     "output_type": "display_data"
    }
   ],
   "source": [
    "dim(all_rides)"
   ]
  },
  {
   "cell_type": "code",
   "execution_count": 7,
   "metadata": {
    "vscode": {
     "languageId": "r"
    }
   },
   "outputs": [
    {
     "data": {
      "text/html": [
       "<table class=\"dataframe\">\n",
       "<caption>A data.frame: 6 × 13</caption>\n",
       "<thead>\n",
       "\t<tr><th></th><th scope=col>ride_id</th><th scope=col>rideable_type</th><th scope=col>started_at</th><th scope=col>ended_at</th><th scope=col>start_station_name</th><th scope=col>start_station_id</th><th scope=col>end_station_name</th><th scope=col>end_station_id</th><th scope=col>start_lat</th><th scope=col>start_lng</th><th scope=col>end_lat</th><th scope=col>end_lng</th><th scope=col>member_casual</th></tr>\n",
       "\t<tr><th></th><th scope=col>&lt;chr&gt;</th><th scope=col>&lt;chr&gt;</th><th scope=col>&lt;chr&gt;</th><th scope=col>&lt;chr&gt;</th><th scope=col>&lt;chr&gt;</th><th scope=col>&lt;chr&gt;</th><th scope=col>&lt;chr&gt;</th><th scope=col>&lt;chr&gt;</th><th scope=col>&lt;dbl&gt;</th><th scope=col>&lt;dbl&gt;</th><th scope=col>&lt;dbl&gt;</th><th scope=col>&lt;dbl&gt;</th><th scope=col>&lt;chr&gt;</th></tr>\n",
       "</thead>\n",
       "<tbody>\n",
       "\t<tr><th scope=row>1</th><td>954144C2F67B1932</td><td>classic_bike </td><td>2022-07-05 08:12:47</td><td>2022-07-05 08:24:32</td><td>Ashland Ave &amp; Blackhawk St </td><td><span style=white-space:pre-wrap>13224       </span></td><td><span style=white-space:pre-wrap>Kingsbury St &amp; Kinzie St      </span></td><td>KA1503000043</td><td>41.90707</td><td>-87.66725</td><td>41.88918</td><td>-87.63851</td><td>member</td></tr>\n",
       "\t<tr><th scope=row>2</th><td>292E027607D218B6</td><td>classic_bike </td><td>2022-07-26 12:53:38</td><td>2022-07-26 12:55:31</td><td>Buckingham Fountain (Temp) </td><td><span style=white-space:pre-wrap>15541       </span></td><td><span style=white-space:pre-wrap>Michigan Ave &amp; 8th St         </span></td><td><span style=white-space:pre-wrap>623         </span></td><td>41.86962</td><td>-87.62398</td><td>41.87277</td><td>-87.62398</td><td>casual</td></tr>\n",
       "\t<tr><th scope=row>3</th><td>57765852588AD6E0</td><td>classic_bike </td><td>2022-07-03 13:58:49</td><td>2022-07-03 14:06:32</td><td>Buckingham Fountain (Temp) </td><td><span style=white-space:pre-wrap>15541       </span></td><td><span style=white-space:pre-wrap>Michigan Ave &amp; 8th St         </span></td><td><span style=white-space:pre-wrap>623         </span></td><td>41.86962</td><td>-87.62398</td><td>41.87277</td><td>-87.62398</td><td>casual</td></tr>\n",
       "\t<tr><th scope=row>4</th><td>B5B6BE44314590E6</td><td>classic_bike </td><td>2022-07-31 17:44:21</td><td>2022-07-31 18:42:50</td><td>Buckingham Fountain (Temp) </td><td><span style=white-space:pre-wrap>15541       </span></td><td><span style=white-space:pre-wrap>Woodlawn Ave &amp; 55th St        </span></td><td>TA1307000164</td><td>41.86962</td><td>-87.62398</td><td>41.79526</td><td>-87.59647</td><td>casual</td></tr>\n",
       "\t<tr><th scope=row>5</th><td>A4C331F2A00E79E0</td><td>classic_bike </td><td>2022-07-13 19:49:06</td><td>2022-07-13 20:15:24</td><td><span style=white-space:pre-wrap>Wabash Ave &amp; Grand Ave     </span></td><td>TA1307000117</td><td>Sheffield Ave &amp; Wellington Ave</td><td>TA1307000052</td><td>41.89147</td><td>-87.62676</td><td>41.93625</td><td>-87.65266</td><td>member</td></tr>\n",
       "\t<tr><th scope=row>6</th><td>579D73BE2ED880B3</td><td>electric_bike</td><td>2022-07-01 17:04:35</td><td>2022-07-01 17:13:18</td><td>Desplaines St &amp; Randolph St</td><td><span style=white-space:pre-wrap>15535       </span></td><td><span style=white-space:pre-wrap>Clinton St &amp; Roosevelt Rd     </span></td><td><span style=white-space:pre-wrap>WL-008      </span></td><td>41.88461</td><td>-87.64456</td><td>41.86712</td><td>-87.64109</td><td>member</td></tr>\n",
       "</tbody>\n",
       "</table>\n"
      ],
      "text/latex": [
       "A data.frame: 6 × 13\n",
       "\\begin{tabular}{r|lllllllllllll}\n",
       "  & ride\\_id & rideable\\_type & started\\_at & ended\\_at & start\\_station\\_name & start\\_station\\_id & end\\_station\\_name & end\\_station\\_id & start\\_lat & start\\_lng & end\\_lat & end\\_lng & member\\_casual\\\\\n",
       "  & <chr> & <chr> & <chr> & <chr> & <chr> & <chr> & <chr> & <chr> & <dbl> & <dbl> & <dbl> & <dbl> & <chr>\\\\\n",
       "\\hline\n",
       "\t1 & 954144C2F67B1932 & classic\\_bike  & 2022-07-05 08:12:47 & 2022-07-05 08:24:32 & Ashland Ave \\& Blackhawk St  & 13224        & Kingsbury St \\& Kinzie St       & KA1503000043 & 41.90707 & -87.66725 & 41.88918 & -87.63851 & member\\\\\n",
       "\t2 & 292E027607D218B6 & classic\\_bike  & 2022-07-26 12:53:38 & 2022-07-26 12:55:31 & Buckingham Fountain (Temp)  & 15541        & Michigan Ave \\& 8th St          & 623          & 41.86962 & -87.62398 & 41.87277 & -87.62398 & casual\\\\\n",
       "\t3 & 57765852588AD6E0 & classic\\_bike  & 2022-07-03 13:58:49 & 2022-07-03 14:06:32 & Buckingham Fountain (Temp)  & 15541        & Michigan Ave \\& 8th St          & 623          & 41.86962 & -87.62398 & 41.87277 & -87.62398 & casual\\\\\n",
       "\t4 & B5B6BE44314590E6 & classic\\_bike  & 2022-07-31 17:44:21 & 2022-07-31 18:42:50 & Buckingham Fountain (Temp)  & 15541        & Woodlawn Ave \\& 55th St         & TA1307000164 & 41.86962 & -87.62398 & 41.79526 & -87.59647 & casual\\\\\n",
       "\t5 & A4C331F2A00E79E0 & classic\\_bike  & 2022-07-13 19:49:06 & 2022-07-13 20:15:24 & Wabash Ave \\& Grand Ave      & TA1307000117 & Sheffield Ave \\& Wellington Ave & TA1307000052 & 41.89147 & -87.62676 & 41.93625 & -87.65266 & member\\\\\n",
       "\t6 & 579D73BE2ED880B3 & electric\\_bike & 2022-07-01 17:04:35 & 2022-07-01 17:13:18 & Desplaines St \\& Randolph St & 15535        & Clinton St \\& Roosevelt Rd      & WL-008       & 41.88461 & -87.64456 & 41.86712 & -87.64109 & member\\\\\n",
       "\\end{tabular}\n"
      ],
      "text/markdown": [
       "\n",
       "A data.frame: 6 × 13\n",
       "\n",
       "| <!--/--> | ride_id &lt;chr&gt; | rideable_type &lt;chr&gt; | started_at &lt;chr&gt; | ended_at &lt;chr&gt; | start_station_name &lt;chr&gt; | start_station_id &lt;chr&gt; | end_station_name &lt;chr&gt; | end_station_id &lt;chr&gt; | start_lat &lt;dbl&gt; | start_lng &lt;dbl&gt; | end_lat &lt;dbl&gt; | end_lng &lt;dbl&gt; | member_casual &lt;chr&gt; |\n",
       "|---|---|---|---|---|---|---|---|---|---|---|---|---|---|\n",
       "| 1 | 954144C2F67B1932 | classic_bike  | 2022-07-05 08:12:47 | 2022-07-05 08:24:32 | Ashland Ave &amp; Blackhawk St  | 13224        | Kingsbury St &amp; Kinzie St       | KA1503000043 | 41.90707 | -87.66725 | 41.88918 | -87.63851 | member |\n",
       "| 2 | 292E027607D218B6 | classic_bike  | 2022-07-26 12:53:38 | 2022-07-26 12:55:31 | Buckingham Fountain (Temp)  | 15541        | Michigan Ave &amp; 8th St          | 623          | 41.86962 | -87.62398 | 41.87277 | -87.62398 | casual |\n",
       "| 3 | 57765852588AD6E0 | classic_bike  | 2022-07-03 13:58:49 | 2022-07-03 14:06:32 | Buckingham Fountain (Temp)  | 15541        | Michigan Ave &amp; 8th St          | 623          | 41.86962 | -87.62398 | 41.87277 | -87.62398 | casual |\n",
       "| 4 | B5B6BE44314590E6 | classic_bike  | 2022-07-31 17:44:21 | 2022-07-31 18:42:50 | Buckingham Fountain (Temp)  | 15541        | Woodlawn Ave &amp; 55th St         | TA1307000164 | 41.86962 | -87.62398 | 41.79526 | -87.59647 | casual |\n",
       "| 5 | A4C331F2A00E79E0 | classic_bike  | 2022-07-13 19:49:06 | 2022-07-13 20:15:24 | Wabash Ave &amp; Grand Ave      | TA1307000117 | Sheffield Ave &amp; Wellington Ave | TA1307000052 | 41.89147 | -87.62676 | 41.93625 | -87.65266 | member |\n",
       "| 6 | 579D73BE2ED880B3 | electric_bike | 2022-07-01 17:04:35 | 2022-07-01 17:13:18 | Desplaines St &amp; Randolph St | 15535        | Clinton St &amp; Roosevelt Rd      | WL-008       | 41.88461 | -87.64456 | 41.86712 | -87.64109 | member |\n",
       "\n"
      ],
      "text/plain": [
       "  ride_id          rideable_type started_at          ended_at           \n",
       "1 954144C2F67B1932 classic_bike  2022-07-05 08:12:47 2022-07-05 08:24:32\n",
       "2 292E027607D218B6 classic_bike  2022-07-26 12:53:38 2022-07-26 12:55:31\n",
       "3 57765852588AD6E0 classic_bike  2022-07-03 13:58:49 2022-07-03 14:06:32\n",
       "4 B5B6BE44314590E6 classic_bike  2022-07-31 17:44:21 2022-07-31 18:42:50\n",
       "5 A4C331F2A00E79E0 classic_bike  2022-07-13 19:49:06 2022-07-13 20:15:24\n",
       "6 579D73BE2ED880B3 electric_bike 2022-07-01 17:04:35 2022-07-01 17:13:18\n",
       "  start_station_name          start_station_id end_station_name              \n",
       "1 Ashland Ave & Blackhawk St  13224            Kingsbury St & Kinzie St      \n",
       "2 Buckingham Fountain (Temp)  15541            Michigan Ave & 8th St         \n",
       "3 Buckingham Fountain (Temp)  15541            Michigan Ave & 8th St         \n",
       "4 Buckingham Fountain (Temp)  15541            Woodlawn Ave & 55th St        \n",
       "5 Wabash Ave & Grand Ave      TA1307000117     Sheffield Ave & Wellington Ave\n",
       "6 Desplaines St & Randolph St 15535            Clinton St & Roosevelt Rd     \n",
       "  end_station_id start_lat start_lng end_lat  end_lng   member_casual\n",
       "1 KA1503000043   41.90707  -87.66725 41.88918 -87.63851 member       \n",
       "2 623            41.86962  -87.62398 41.87277 -87.62398 casual       \n",
       "3 623            41.86962  -87.62398 41.87277 -87.62398 casual       \n",
       "4 TA1307000164   41.86962  -87.62398 41.79526 -87.59647 casual       \n",
       "5 TA1307000052   41.89147  -87.62676 41.93625 -87.65266 member       \n",
       "6 WL-008         41.88461  -87.64456 41.86712 -87.64109 member       "
      ]
     },
     "metadata": {},
     "output_type": "display_data"
    }
   ],
   "source": [
    "head(all_rides)"
   ]
  },
  {
   "cell_type": "code",
   "execution_count": 8,
   "metadata": {
    "vscode": {
     "languageId": "r"
    }
   },
   "outputs": [
    {
     "name": "stdout",
     "output_type": "stream",
     "text": [
      "'data.frame':\t5779444 obs. of  13 variables:\n",
      " $ ride_id           : chr  \"954144C2F67B1932\" \"292E027607D218B6\" \"57765852588AD6E0\" \"B5B6BE44314590E6\" ...\n",
      " $ rideable_type     : chr  \"classic_bike\" \"classic_bike\" \"classic_bike\" \"classic_bike\" ...\n",
      " $ started_at        : chr  \"2022-07-05 08:12:47\" \"2022-07-26 12:53:38\" \"2022-07-03 13:58:49\" \"2022-07-31 17:44:21\" ...\n",
      " $ ended_at          : chr  \"2022-07-05 08:24:32\" \"2022-07-26 12:55:31\" \"2022-07-03 14:06:32\" \"2022-07-31 18:42:50\" ...\n",
      " $ start_station_name: chr  \"Ashland Ave & Blackhawk St\" \"Buckingham Fountain (Temp)\" \"Buckingham Fountain (Temp)\" \"Buckingham Fountain (Temp)\" ...\n",
      " $ start_station_id  : chr  \"13224\" \"15541\" \"15541\" \"15541\" ...\n",
      " $ end_station_name  : chr  \"Kingsbury St & Kinzie St\" \"Michigan Ave & 8th St\" \"Michigan Ave & 8th St\" \"Woodlawn Ave & 55th St\" ...\n",
      " $ end_station_id    : chr  \"KA1503000043\" \"623\" \"623\" \"TA1307000164\" ...\n",
      " $ start_lat         : num  41.9 41.9 41.9 41.9 41.9 ...\n",
      " $ start_lng         : num  -87.7 -87.6 -87.6 -87.6 -87.6 ...\n",
      " $ end_lat           : num  41.9 41.9 41.9 41.8 41.9 ...\n",
      " $ end_lng           : num  -87.6 -87.6 -87.6 -87.6 -87.7 ...\n",
      " $ member_casual     : chr  \"member\" \"casual\" \"casual\" \"casual\" ...\n"
     ]
    }
   ],
   "source": [
    "str(all_rides)"
   ]
  },
  {
   "cell_type": "code",
   "execution_count": 9,
   "metadata": {
    "vscode": {
     "languageId": "r"
    }
   },
   "outputs": [
    {
     "data": {
      "text/plain": [
       "   ride_id          rideable_type       started_at          ended_at        \n",
       " Length:5779444     Length:5779444     Length:5779444     Length:5779444    \n",
       " Class :character   Class :character   Class :character   Class :character  \n",
       " Mode  :character   Mode  :character   Mode  :character   Mode  :character  \n",
       "                                                                            \n",
       "                                                                            \n",
       "                                                                            \n",
       "                                                                            \n",
       " start_station_name start_station_id   end_station_name   end_station_id    \n",
       " Length:5779444     Length:5779444     Length:5779444     Length:5779444    \n",
       " Class :character   Class :character   Class :character   Class :character  \n",
       " Mode  :character   Mode  :character   Mode  :character   Mode  :character  \n",
       "                                                                            \n",
       "                                                                            \n",
       "                                                                            \n",
       "                                                                            \n",
       "   start_lat       start_lng         end_lat         end_lng      \n",
       " Min.   :41.64   Min.   :-87.87   Min.   : 0.00   Min.   :-88.16  \n",
       " 1st Qu.:41.88   1st Qu.:-87.66   1st Qu.:41.88   1st Qu.:-87.66  \n",
       " Median :41.90   Median :-87.64   Median :41.90   Median :-87.64  \n",
       " Mean   :41.90   Mean   :-87.65   Mean   :41.90   Mean   :-87.65  \n",
       " 3rd Qu.:41.93   3rd Qu.:-87.63   3rd Qu.:41.93   3rd Qu.:-87.63  \n",
       " Max.   :42.07   Max.   :-87.52   Max.   :42.37   Max.   :  0.00  \n",
       "                                  NA's   :5795    NA's   :5795    \n",
       " member_casual     \n",
       " Length:5779444    \n",
       " Class :character  \n",
       " Mode  :character  \n",
       "                   \n",
       "                   \n",
       "                   \n",
       "                   "
      ]
     },
     "metadata": {},
     "output_type": "display_data"
    }
   ],
   "source": [
    "summary(all_rides)"
   ]
  },
  {
   "cell_type": "code",
   "execution_count": 10,
   "metadata": {
    "vscode": {
     "languageId": "r"
    }
   },
   "outputs": [
    {
     "data": {
      "text/html": [
       "2"
      ],
      "text/latex": [
       "2"
      ],
      "text/markdown": [
       "2"
      ],
      "text/plain": [
       "[1] 2"
      ]
     },
     "metadata": {},
     "output_type": "display_data"
    }
   ],
   "source": [
    "n_distinct(all_rides$member_casual) #Count distinct values to check consistency."
   ]
  },
  {
   "cell_type": "markdown",
   "metadata": {},
   "source": [
    "Procccessing (part 3)\n",
    "1. We remove empty rows."
   ]
  },
  {
   "cell_type": "code",
   "execution_count": 11,
   "metadata": {
    "vscode": {
     "languageId": "r"
    }
   },
   "outputs": [],
   "source": [
    "all_rides <- janitor::remove_empty(all_rides,which = c(\"cols\")) #removes empty columns\n",
    "all_rides <- janitor::remove_empty(all_rides,which = c(\"rows\")) #removes empty rows"
   ]
  },
  {
   "cell_type": "markdown",
   "metadata": {},
   "source": [
    "2. We use ‘lubridate’ package to transform ‘started_at’ and ‘ended_at’ to ‘ymd_hms’ and to create ‘start_hour’, ‘end_hour’ and ‘day_of_week’."
   ]
  },
  {
   "cell_type": "code",
   "execution_count": 12,
   "metadata": {
    "vscode": {
     "languageId": "r"
    }
   },
   "outputs": [],
   "source": [
    "all_rides$started_at <- lubridate::ymd_hms(all_rides$started_at) #turns 'started_at' to ymd_hms\n",
    "all_rides$ended_at <- lubridate::ymd_hms(all_rides$ended_at) #turns 'ended_at' to ymd_hms\n",
    "all_rides$start_hour <- lubridate::hour(all_rides$started_at)\n",
    "all_rides$end_hour <- lubridate::hour(all_rides$ended_at)\n",
    "all_rides$day_of_week <- wday(all_rides$started_at)"
   ]
  },
  {
   "cell_type": "markdown",
   "metadata": {},
   "source": [
    "3. We add a ride lenght column with ‘difftime’ using ‘ended_at’ and ‘started_at’."
   ]
  },
  {
   "cell_type": "code",
   "execution_count": 13,
   "metadata": {
    "vscode": {
     "languageId": "r"
    }
   },
   "outputs": [],
   "source": [
    "all_rides$ride_length <- difftime(all_rides$ended_at,all_rides$started_at)"
   ]
  },
  {
   "cell_type": "markdown",
   "metadata": {},
   "source": [
    "4. Then we create a new dataframe excluding the rows with negative lenght time."
   ]
  },
  {
   "cell_type": "code",
   "execution_count": 14,
   "metadata": {
    "vscode": {
     "languageId": "r"
    }
   },
   "outputs": [
    {
     "data": {
      "text/html": [
       "107"
      ],
      "text/latex": [
       "107"
      ],
      "text/markdown": [
       "107"
      ],
      "text/plain": [
       "[1] 107"
      ]
     },
     "metadata": {},
     "output_type": "display_data"
    }
   ],
   "source": [
    "sum(all_rides$ride_length < 0, na.rm=TRUE) #counts number of rows < 0 in 'ride_length)"
   ]
  },
  {
   "cell_type": "code",
   "execution_count": 15,
   "metadata": {
    "vscode": {
     "languageId": "r"
    }
   },
   "outputs": [
    {
     "data": {
      "text/html": [
       "0"
      ],
      "text/latex": [
       "0"
      ],
      "text/markdown": [
       "0"
      ],
      "text/plain": [
       "[1] 0"
      ]
     },
     "metadata": {},
     "output_type": "display_data"
    }
   ],
   "source": [
    "all_rides_v2 <- all_rides[!(all_rides$ride_length<0),]\n",
    "sum(all_rides_v2$ride_length < 0, na.rm=TRUE) #counts number of rows < 0 in 'ride_length)"
   ]
  },
  {
   "cell_type": "markdown",
   "metadata": {},
   "source": [
    "5. Finally we change the ‘day_of_week’ from a number to the name of the day."
   ]
  },
  {
   "cell_type": "code",
   "execution_count": 16,
   "metadata": {
    "vscode": {
     "languageId": "r"
    }
   },
   "outputs": [],
   "source": [
    "all_rides_v2 <- all_rides_v2 %>% \n",
    "  mutate(day_of_week = recode(day_of_week\n",
    "                              ,\"1\" = \"Sunday\"\n",
    "                              ,\"2\" = \"Monday\"\n",
    "                              ,\"3\" = \"Tuesday\"\n",
    "                              ,\"4\" = \"Wednesday\"\n",
    "                              ,\"5\" = \"Thursday\"\n",
    "                              ,\"6\" = \"Friday\"\n",
    "                              ,\"7\" = \"Saturday\"))"
   ]
  },
  {
   "cell_type": "markdown",
   "metadata": {},
   "source": [
    "## Analyze\n",
    "Descriptive analysis on ride_length\n",
    "* Average:"
   ]
  },
  {
   "cell_type": "code",
   "execution_count": 17,
   "metadata": {
    "vscode": {
     "languageId": "r"
    }
   },
   "outputs": [
    {
     "data": {
      "text/plain": [
       "Time difference of 1100.56 secs"
      ]
     },
     "metadata": {},
     "output_type": "display_data"
    }
   ],
   "source": [
    "mean(all_rides_v2$ride_length) #straight average"
   ]
  },
  {
   "cell_type": "markdown",
   "metadata": {},
   "source": [
    "* Midpoint number:"
   ]
  },
  {
   "cell_type": "code",
   "execution_count": 18,
   "metadata": {
    "vscode": {
     "languageId": "r"
    }
   },
   "outputs": [
    {
     "data": {
      "text/plain": [
       "Time difference of 582 secs"
      ]
     },
     "metadata": {},
     "output_type": "display_data"
    }
   ],
   "source": [
    "median(all_rides_v2$ride_length) #midpoint number"
   ]
  },
  {
   "cell_type": "markdown",
   "metadata": {},
   "source": [
    "* Longest and shortest ride:"
   ]
  },
  {
   "cell_type": "code",
   "execution_count": 19,
   "metadata": {
    "vscode": {
     "languageId": "r"
    }
   },
   "outputs": [
    {
     "data": {
      "text/plain": [
       "Time difference of 2483235 secs"
      ]
     },
     "metadata": {},
     "output_type": "display_data"
    }
   ],
   "source": [
    "max(all_rides_v2$ride_length) #longest ride"
   ]
  },
  {
   "cell_type": "code",
   "execution_count": 20,
   "metadata": {
    "vscode": {
     "languageId": "r"
    }
   },
   "outputs": [
    {
     "data": {
      "text/plain": [
       "Time difference of 0 secs"
      ]
     },
     "metadata": {},
     "output_type": "display_data"
    }
   ],
   "source": [
    "min(all_rides_v2$ride_length) #shortest ride"
   ]
  },
  {
   "cell_type": "markdown",
   "metadata": {},
   "source": [
    "* Descriptive analysis on ‘ride_length’ by user type:"
   ]
  },
  {
   "cell_type": "code",
   "execution_count": 21,
   "metadata": {
    "vscode": {
     "languageId": "r"
    }
   },
   "outputs": [
    {
     "data": {
      "text/html": [
       "<table class=\"dataframe\">\n",
       "<caption>A data.frame: 2 × 2</caption>\n",
       "<thead>\n",
       "\t<tr><th scope=col>all_rides_v2$member_casual</th><th scope=col>all_rides_v2$ride_length</th></tr>\n",
       "\t<tr><th scope=col>&lt;chr&gt;</th><th scope=col>&lt;drtn&gt;</th></tr>\n",
       "</thead>\n",
       "<tbody>\n",
       "\t<tr><td>casual</td><td>1663.8119 secs</td></tr>\n",
       "\t<tr><td>member</td><td> 742.9935 secs</td></tr>\n",
       "</tbody>\n",
       "</table>\n"
      ],
      "text/latex": [
       "A data.frame: 2 × 2\n",
       "\\begin{tabular}{ll}\n",
       " all\\_rides\\_v2\\$member\\_casual & all\\_rides\\_v2\\$ride\\_length\\\\\n",
       " <chr> & <drtn>\\\\\n",
       "\\hline\n",
       "\t casual & 1663.8119 secs\\\\\n",
       "\t member &  742.9935 secs\\\\\n",
       "\\end{tabular}\n"
      ],
      "text/markdown": [
       "\n",
       "A data.frame: 2 × 2\n",
       "\n",
       "| all_rides_v2$member_casual &lt;chr&gt; | all_rides_v2$ride_length &lt;drtn&gt; |\n",
       "|---|---|\n",
       "| casual | 1663.8119 secs |\n",
       "| member |  742.9935 secs |\n",
       "\n"
      ],
      "text/plain": [
       "  all_rides_v2$member_casual all_rides_v2$ride_length\n",
       "1 casual                     1663.8119 secs          \n",
       "2 member                      742.9935 secs          "
      ]
     },
     "metadata": {},
     "output_type": "display_data"
    }
   ],
   "source": [
    "aggregate(all_rides_v2$ride_length ~ all_rides_v2$member_casual, FUN = mean)"
   ]
  },
  {
   "cell_type": "code",
   "execution_count": 22,
   "metadata": {
    "vscode": {
     "languageId": "r"
    }
   },
   "outputs": [
    {
     "data": {
      "text/html": [
       "<table class=\"dataframe\">\n",
       "<caption>A data.frame: 2 × 2</caption>\n",
       "<thead>\n",
       "\t<tr><th scope=col>all_rides_v2$member_casual</th><th scope=col>all_rides_v2$ride_length</th></tr>\n",
       "\t<tr><th scope=col>&lt;chr&gt;</th><th scope=col>&lt;drtn&gt;</th></tr>\n",
       "</thead>\n",
       "<tbody>\n",
       "\t<tr><td>casual</td><td>720 secs</td></tr>\n",
       "\t<tr><td>member</td><td>513 secs</td></tr>\n",
       "</tbody>\n",
       "</table>\n"
      ],
      "text/latex": [
       "A data.frame: 2 × 2\n",
       "\\begin{tabular}{ll}\n",
       " all\\_rides\\_v2\\$member\\_casual & all\\_rides\\_v2\\$ride\\_length\\\\\n",
       " <chr> & <drtn>\\\\\n",
       "\\hline\n",
       "\t casual & 720 secs\\\\\n",
       "\t member & 513 secs\\\\\n",
       "\\end{tabular}\n"
      ],
      "text/markdown": [
       "\n",
       "A data.frame: 2 × 2\n",
       "\n",
       "| all_rides_v2$member_casual &lt;chr&gt; | all_rides_v2$ride_length &lt;drtn&gt; |\n",
       "|---|---|\n",
       "| casual | 720 secs |\n",
       "| member | 513 secs |\n",
       "\n"
      ],
      "text/plain": [
       "  all_rides_v2$member_casual all_rides_v2$ride_length\n",
       "1 casual                     720 secs                \n",
       "2 member                     513 secs                "
      ]
     },
     "metadata": {},
     "output_type": "display_data"
    }
   ],
   "source": [
    "aggregate(all_rides_v2$ride_length ~ all_rides_v2$member_casual, FUN = median)"
   ]
  },
  {
   "cell_type": "code",
   "execution_count": 23,
   "metadata": {
    "vscode": {
     "languageId": "r"
    }
   },
   "outputs": [
    {
     "data": {
      "text/html": [
       "<table class=\"dataframe\">\n",
       "<caption>A data.frame: 2 × 2</caption>\n",
       "<thead>\n",
       "\t<tr><th scope=col>all_rides_v2$member_casual</th><th scope=col>all_rides_v2$ride_length</th></tr>\n",
       "\t<tr><th scope=col>&lt;chr&gt;</th><th scope=col>&lt;drtn&gt;</th></tr>\n",
       "</thead>\n",
       "<tbody>\n",
       "\t<tr><td>casual</td><td>2483235 secs</td></tr>\n",
       "\t<tr><td>member</td><td>  93580 secs</td></tr>\n",
       "</tbody>\n",
       "</table>\n"
      ],
      "text/latex": [
       "A data.frame: 2 × 2\n",
       "\\begin{tabular}{ll}\n",
       " all\\_rides\\_v2\\$member\\_casual & all\\_rides\\_v2\\$ride\\_length\\\\\n",
       " <chr> & <drtn>\\\\\n",
       "\\hline\n",
       "\t casual & 2483235 secs\\\\\n",
       "\t member &   93580 secs\\\\\n",
       "\\end{tabular}\n"
      ],
      "text/markdown": [
       "\n",
       "A data.frame: 2 × 2\n",
       "\n",
       "| all_rides_v2$member_casual &lt;chr&gt; | all_rides_v2$ride_length &lt;drtn&gt; |\n",
       "|---|---|\n",
       "| casual | 2483235 secs |\n",
       "| member |   93580 secs |\n",
       "\n"
      ],
      "text/plain": [
       "  all_rides_v2$member_casual all_rides_v2$ride_length\n",
       "1 casual                     2483235 secs            \n",
       "2 member                       93580 secs            "
      ]
     },
     "metadata": {},
     "output_type": "display_data"
    }
   ],
   "source": [
    "aggregate(all_rides_v2$ride_length ~ all_rides_v2$member_casual, FUN = max)"
   ]
  },
  {
   "cell_type": "code",
   "execution_count": 24,
   "metadata": {
    "vscode": {
     "languageId": "r"
    }
   },
   "outputs": [
    {
     "data": {
      "text/html": [
       "<table class=\"dataframe\">\n",
       "<caption>A data.frame: 2 × 2</caption>\n",
       "<thead>\n",
       "\t<tr><th scope=col>all_rides_v2$member_casual</th><th scope=col>all_rides_v2$ride_length</th></tr>\n",
       "\t<tr><th scope=col>&lt;chr&gt;</th><th scope=col>&lt;drtn&gt;</th></tr>\n",
       "</thead>\n",
       "<tbody>\n",
       "\t<tr><td>casual</td><td>0 secs</td></tr>\n",
       "\t<tr><td>member</td><td>0 secs</td></tr>\n",
       "</tbody>\n",
       "</table>\n"
      ],
      "text/latex": [
       "A data.frame: 2 × 2\n",
       "\\begin{tabular}{ll}\n",
       " all\\_rides\\_v2\\$member\\_casual & all\\_rides\\_v2\\$ride\\_length\\\\\n",
       " <chr> & <drtn>\\\\\n",
       "\\hline\n",
       "\t casual & 0 secs\\\\\n",
       "\t member & 0 secs\\\\\n",
       "\\end{tabular}\n"
      ],
      "text/markdown": [
       "\n",
       "A data.frame: 2 × 2\n",
       "\n",
       "| all_rides_v2$member_casual &lt;chr&gt; | all_rides_v2$ride_length &lt;drtn&gt; |\n",
       "|---|---|\n",
       "| casual | 0 secs |\n",
       "| member | 0 secs |\n",
       "\n"
      ],
      "text/plain": [
       "  all_rides_v2$member_casual all_rides_v2$ride_length\n",
       "1 casual                     0 secs                  \n",
       "2 member                     0 secs                  "
      ]
     },
     "metadata": {},
     "output_type": "display_data"
    }
   ],
   "source": [
    "aggregate(all_rides_v2$ride_length ~ all_rides_v2$member_casual, FUN = min)"
   ]
  },
  {
   "cell_type": "markdown",
   "metadata": {},
   "source": [
    "* Descriptive analysis on ‘ride_length’ by user type and weekday:"
   ]
  },
  {
   "cell_type": "code",
   "execution_count": 25,
   "metadata": {
    "vscode": {
     "languageId": "r"
    }
   },
   "outputs": [
    {
     "data": {
      "text/html": [
       "<table class=\"dataframe\">\n",
       "<caption>A data.frame: 14 × 3</caption>\n",
       "<thead>\n",
       "\t<tr><th scope=col>all_rides_v2$member_casual</th><th scope=col>all_rides_v2$day_of_week</th><th scope=col>all_rides_v2$ride_length</th></tr>\n",
       "\t<tr><th scope=col>&lt;chr&gt;</th><th scope=col>&lt;ord&gt;</th><th scope=col>&lt;drtn&gt;</th></tr>\n",
       "</thead>\n",
       "<tbody>\n",
       "\t<tr><td>casual</td><td>Sunday   </td><td>1966.7867 secs</td></tr>\n",
       "\t<tr><td>member</td><td>Sunday   </td><td> 820.0939 secs</td></tr>\n",
       "\t<tr><td>casual</td><td>Monday   </td><td>1630.5872 secs</td></tr>\n",
       "\t<tr><td>member</td><td>Monday   </td><td> 706.0557 secs</td></tr>\n",
       "\t<tr><td>casual</td><td>Tuesday  </td><td>1452.1944 secs</td></tr>\n",
       "\t<tr><td>member</td><td>Tuesday  </td><td> 710.2097 secs</td></tr>\n",
       "\t<tr><td>casual</td><td>Wednesday</td><td>1395.3616 secs</td></tr>\n",
       "\t<tr><td>member</td><td>Wednesday</td><td> 709.5315 secs</td></tr>\n",
       "\t<tr><td>casual</td><td>Thursday </td><td>1395.6566 secs</td></tr>\n",
       "\t<tr><td>member</td><td>Thursday </td><td> 713.4024 secs</td></tr>\n",
       "\t<tr><td>casual</td><td>Friday   </td><td>1614.9352 secs</td></tr>\n",
       "\t<tr><td>member</td><td>Friday   </td><td> 738.5969 secs</td></tr>\n",
       "\t<tr><td>casual</td><td>Saturday </td><td>1941.5090 secs</td></tr>\n",
       "\t<tr><td>member</td><td>Saturday </td><td> 837.4834 secs</td></tr>\n",
       "</tbody>\n",
       "</table>\n"
      ],
      "text/latex": [
       "A data.frame: 14 × 3\n",
       "\\begin{tabular}{lll}\n",
       " all\\_rides\\_v2\\$member\\_casual & all\\_rides\\_v2\\$day\\_of\\_week & all\\_rides\\_v2\\$ride\\_length\\\\\n",
       " <chr> & <ord> & <drtn>\\\\\n",
       "\\hline\n",
       "\t casual & Sunday    & 1966.7867 secs\\\\\n",
       "\t member & Sunday    &  820.0939 secs\\\\\n",
       "\t casual & Monday    & 1630.5872 secs\\\\\n",
       "\t member & Monday    &  706.0557 secs\\\\\n",
       "\t casual & Tuesday   & 1452.1944 secs\\\\\n",
       "\t member & Tuesday   &  710.2097 secs\\\\\n",
       "\t casual & Wednesday & 1395.3616 secs\\\\\n",
       "\t member & Wednesday &  709.5315 secs\\\\\n",
       "\t casual & Thursday  & 1395.6566 secs\\\\\n",
       "\t member & Thursday  &  713.4024 secs\\\\\n",
       "\t casual & Friday    & 1614.9352 secs\\\\\n",
       "\t member & Friday    &  738.5969 secs\\\\\n",
       "\t casual & Saturday  & 1941.5090 secs\\\\\n",
       "\t member & Saturday  &  837.4834 secs\\\\\n",
       "\\end{tabular}\n"
      ],
      "text/markdown": [
       "\n",
       "A data.frame: 14 × 3\n",
       "\n",
       "| all_rides_v2$member_casual &lt;chr&gt; | all_rides_v2$day_of_week &lt;ord&gt; | all_rides_v2$ride_length &lt;drtn&gt; |\n",
       "|---|---|---|\n",
       "| casual | Sunday    | 1966.7867 secs |\n",
       "| member | Sunday    |  820.0939 secs |\n",
       "| casual | Monday    | 1630.5872 secs |\n",
       "| member | Monday    |  706.0557 secs |\n",
       "| casual | Tuesday   | 1452.1944 secs |\n",
       "| member | Tuesday   |  710.2097 secs |\n",
       "| casual | Wednesday | 1395.3616 secs |\n",
       "| member | Wednesday |  709.5315 secs |\n",
       "| casual | Thursday  | 1395.6566 secs |\n",
       "| member | Thursday  |  713.4024 secs |\n",
       "| casual | Friday    | 1614.9352 secs |\n",
       "| member | Friday    |  738.5969 secs |\n",
       "| casual | Saturday  | 1941.5090 secs |\n",
       "| member | Saturday  |  837.4834 secs |\n",
       "\n"
      ],
      "text/plain": [
       "   all_rides_v2$member_casual all_rides_v2$day_of_week all_rides_v2$ride_length\n",
       "1  casual                     Sunday                   1966.7867 secs          \n",
       "2  member                     Sunday                    820.0939 secs          \n",
       "3  casual                     Monday                   1630.5872 secs          \n",
       "4  member                     Monday                    706.0557 secs          \n",
       "5  casual                     Tuesday                  1452.1944 secs          \n",
       "6  member                     Tuesday                   710.2097 secs          \n",
       "7  casual                     Wednesday                1395.3616 secs          \n",
       "8  member                     Wednesday                 709.5315 secs          \n",
       "9  casual                     Thursday                 1395.6566 secs          \n",
       "10 member                     Thursday                  713.4024 secs          \n",
       "11 casual                     Friday                   1614.9352 secs          \n",
       "12 member                     Friday                    738.5969 secs          \n",
       "13 casual                     Saturday                 1941.5090 secs          \n",
       "14 member                     Saturday                  837.4834 secs          "
      ]
     },
     "metadata": {},
     "output_type": "display_data"
    }
   ],
   "source": [
    "all_rides_v2$day_of_week <- ordered(all_rides_v2$day_of_week, levels=c(\"Sunday\", \"Monday\", \"Tuesday\", \"Wednesday\", \"Thursday\", \"Friday\", \"Saturday\"))\n",
    "\n",
    "aggregate(all_rides_v2$ride_length ~ all_rides_v2$member_casual + all_rides_v2$day_of_week, FUN = mean )"
   ]
  },
  {
   "cell_type": "markdown",
   "metadata": {},
   "source": [
    "Analyze ridership data"
   ]
  },
  {
   "cell_type": "code",
   "execution_count": 26,
   "metadata": {
    "vscode": {
     "languageId": "r"
    }
   },
   "outputs": [
    {
     "name": "stderr",
     "output_type": "stream",
     "text": [
      "\u001b[1m\u001b[22m`summarise()` has grouped output by 'member_casual'. You can override using the\n",
      "`.groups` argument.\n"
     ]
    },
    {
     "data": {
      "image/png": "[encoded data removed]",
      "text/plain": [
       "plot without title"
      ]
     },
     "metadata": {
      "image/png": {
       "height": 420,
       "width": 420
      }
     },
     "output_type": "display_data"
    }
   ],
   "source": [
    "all_rides_v2 %>% \n",
    "  mutate(weekday = wday(started_at, label = TRUE)) %>% \n",
    "  group_by(member_casual, weekday) %>% \n",
    "  summarise(number_of_rides=n(), average_duration = mean(ride_length)) %>% \n",
    "  arrange(member_casual,weekday) %>% \n",
    "  ggplot(aes(x=weekday,y=number_of_rides, fill = member_casual)) +\n",
    "  geom_col(position = \"dodge\")+\n",
    "  scale_y_continuous(labels = comma)+\n",
    "  ggtitle(\"Daily rides by user type and weekday:\")"
   ]
  },
  {
   "cell_type": "code",
   "execution_count": 27,
   "metadata": {
    "vscode": {
     "languageId": "r"
    }
   },
   "outputs": [
    {
     "name": "stderr",
     "output_type": "stream",
     "text": [
      "\u001b[1m\u001b[22m`summarise()` has grouped output by 'member_casual'. You can override using the\n",
      "`.groups` argument.\n"
     ]
    },
    {
     "data": {
      "image/png": "[encoded data removed]",
      "text/plain": [
       "plot without title"
      ]
     },
     "metadata": {
      "image/png": {
       "height": 420,
       "width": 420
      }
     },
     "output_type": "display_data"
    }
   ],
   "source": [
    "all_rides_v2 %>% \n",
    "  mutate(weekday = wday(started_at, label = TRUE)) %>% \n",
    "  group_by(member_casual, weekday) %>% \n",
    "  summarise(number_of_rides=n(), average_duration = mean(ride_length)) %>% \n",
    "  arrange(member_casual,weekday) %>% \n",
    "  ggplot(aes(x=weekday,y=average_duration, fill = member_casual)) +\n",
    "  geom_col(position = \"dodge\")+\n",
    "  scale_y_continuous(labels = comma)+\n",
    "  ggtitle(\"Average ride duration by user type and weekday:\")"
   ]
  },
  {
   "cell_type": "code",
   "execution_count": 28,
   "metadata": {
    "vscode": {
     "languageId": "r"
    }
   },
   "outputs": [
    {
     "name": "stderr",
     "output_type": "stream",
     "text": [
      "\u001b[1m\u001b[22m`summarise()` has grouped output by 'member_casual'. You can override using the\n",
      "`.groups` argument.\n"
     ]
    },
    {
     "data": {
      "image/png": "[encoded data removed]",
      "text/plain": [
       "plot without title"
      ]
     },
     "metadata": {
      "image/png": {
       "height": 420,
       "width": 420
      }
     },
     "output_type": "display_data"
    }
   ],
   "source": [
    "all_rides_v2 %>% \n",
    "  group_by(member_casual, start_hour) %>% \n",
    "  summarise(number_of_rides=n()) %>% \n",
    "  ggplot(aes(x=start_hour,y=number_of_rides, color = member_casual)) +\n",
    "  geom_line()+\n",
    "  scale_y_continuous(labels = comma)+\n",
    "  ggtitle(\"Rides by time of day and user type:\")"
   ]
  },
  {
   "cell_type": "markdown",
   "metadata": {},
   "source": [
    "Further analysis on ‘rideable_type’ by user, weekday, time of day…\n",
    "\n",
    "We first obtain the total amount of rides divided by annual member and casual rider, further subdivided by bicycle type (classic, electric and docked)."
   ]
  },
  {
   "cell_type": "code",
   "execution_count": 29,
   "metadata": {
    "vscode": {
     "languageId": "r"
    }
   },
   "outputs": [],
   "source": [
    "classic_member <- sum(all_rides_v2$member_casual == 'member' & all_rides_v2$rideable_type == 'classic_bike')\n",
    "electric_member <- sum(all_rides_v2$member_casual == 'member' & all_rides_v2$rideable_type == 'electric_bike')\n",
    "docked_member <- sum(all_rides_v2$member_casual == 'member' & all_rides_v2$rideable_type == 'docked_bike')\n",
    "\n",
    "classic_casual <- sum(all_rides_v2$member_casual == 'casual' & all_rides_v2$rideable_type == 'classic_bike')\n",
    "electric_casual <- sum(all_rides_v2$member_casual == 'casual' & all_rides_v2$rideable_type == 'electric_bike')\n",
    "docked_casual <- sum(all_rides_v2$member_casual == 'casual' & all_rides_v2$rideable_type == 'docked_bike')"
   ]
  },
  {
   "cell_type": "markdown",
   "metadata": {},
   "source": [
    "We search for correlations in our data\n",
    "\n",
    "For example: does the bicycle type usage change over the week?"
   ]
  },
  {
   "cell_type": "code",
   "execution_count": 30,
   "metadata": {
    "vscode": {
     "languageId": "r"
    }
   },
   "outputs": [
    {
     "name": "stderr",
     "output_type": "stream",
     "text": [
      "\u001b[1m\u001b[22m`summarise()` has grouped output by 'rideable_type'. You can override using the\n",
      "`.groups` argument.\n"
     ]
    },
    {
     "data": {
      "image/png": "[encoded data removed]",
      "text/plain": [
       "plot without title"
      ]
     },
     "metadata": {
      "image/png": {
       "height": 420,
       "width": 420
      }
     },
     "output_type": "display_data"
    }
   ],
   "source": [
    "all_rides_v2 %>% \n",
    "  mutate(weekday = wday(started_at, label = TRUE)) %>%\n",
    "  group_by(rideable_type, weekday) %>% \n",
    "  summarise(number_of_rides=n()) %>% \n",
    "  ggplot(aes(x=weekday,y=number_of_rides, fill=rideable_type)) +\n",
    "  geom_col(position = \"dodge\")+\n",
    "  scale_y_continuous(labels = comma)+\n",
    "  ggtitle(\"Rides by weekday and bicycle type:\")"
   ]
  },
  {
   "cell_type": "markdown",
   "metadata": {},
   "source": [
    "Then we analyze for differences between annual members and casual riders with the types of bicycles they use:"
   ]
  },
  {
   "cell_type": "code",
   "execution_count": 31,
   "metadata": {
    "vscode": {
     "languageId": "r"
    }
   },
   "outputs": [
    {
     "name": "stderr",
     "output_type": "stream",
     "text": [
      "\u001b[1m\u001b[22m`summarise()` has grouped output by 'rideable_type', 'member_casual'. You can\n",
      "override using the `.groups` argument.\n",
      "\u001b[1m\u001b[22m`geom_smooth()` using method = 'loess' and formula = 'y ~ x'\n"
     ]
    },
    {
     "data": {
      "image/png": "[encoded data removed]",
      "text/plain": [
       "plot without title"
      ]
     },
     "metadata": {
      "image/png": {
       "height": 420,
       "width": 420
      }
     },
     "output_type": "display_data"
    }
   ],
   "source": [
    "all_rides_v2 %>% \n",
    "  group_by(rideable_type, member_casual, start_hour) %>% \n",
    "  summarise(number_of_rides=n()) %>% \n",
    "  ggplot(aes(x=start_hour,y=number_of_rides, color=member_casual, linetype=rideable_type)) +\n",
    "  geom_smooth()+\n",
    "  scale_y_continuous(labels = comma)+\n",
    "  ggtitle(\"Rides by time of day, user and bicycle type:\")"
   ]
  },
  {
   "cell_type": "markdown",
   "metadata": {},
   "source": [
    "Data Analysis Results:\n",
    "\n",
    "Based on the data analysis, we found that casual riders have a longer average ride length of 1663 seconds compared to annual members, who have an average ride length of 742 seconds. However, annual members take nearly double the number of daily rides compared to casual riders.\n",
    "\n",
    "Usage Patterns:\n",
    "\n",
    "Casual riders typically start riding around 5 am, and their usage increases almost linearly until 4 pm, after which it gradually decreases. In contrast, annual members show usage spikes at 8 am and 4 pm. This suggests a strong relationship between annual members using Cyclistic as a means of commuting to work and back home.\n",
    "\n",
    "Conclusion:\n",
    "\n",
    "The analysis indicates that casual riders primarily use Cyclistic for leisure purposes, while annual members predominantly use it for their daily commute to work.\n",
    "\n",
    "Next Steps:\n",
    "\n",
    "To gain further insights, we recommend surveying our annual members directly, using a \"yes or no\" question, to inquire if they use Cyclistic bikes for commuting to work. Alternatively, the marketing campaign could focus on inspiring casual riders to become annual members, highlighting the benefits of using Cyclistic for their daily work commute. To reassure their intent, offering a free trial, money-back guarantee, or other attractive tactics could be considered."
   ]
  }
 ],
 "metadata": {
  "kernelspec": {
   "display_name": "R",
   "language": "R",
   "name": "ir"
  },
  "language_info": {
   "codemirror_mode": "r",
   "file_extension": ".r",
   "mimetype": "text/x-r-source",
   "name": "R",
   "pygments_lexer": "r",
   "version": "4.3.1"
  },
  "orig_nbformat": 4
 },
 "nbformat": 4,
 "nbformat_minor": 2
}
